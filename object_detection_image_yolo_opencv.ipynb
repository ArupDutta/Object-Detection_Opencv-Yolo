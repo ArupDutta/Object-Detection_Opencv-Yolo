{
 "cells": [
  {
   "cell_type": "markdown",
   "metadata": {},
   "source": [
    "*YOLO is a deep learning algorythm. So it doesn’t need any installation, instead it needs a deep learning freamwork to run on!*\n",
    "\n",
    "*Three most know used freamwork compatible with YOLO are -* <br/>\n",
    "*1. Darknet* <br/>\n",
    "*2. Darkflow* <br/>\n",
    "*3. Opencv*"
   ]
  },
  {
   "cell_type": "markdown",
   "metadata": {},
   "source": [
    "*Imports necessary packages*"
   ]
  },
  {
   "cell_type": "code",
   "execution_count": 1,
   "metadata": {},
   "outputs": [],
   "source": [
    "import numpy as np\n",
    "import cv2\n",
    "import os"
   ]
  },
  {
   "cell_type": "markdown",
   "metadata": {},
   "source": [
    "*Load the COCO class labels our YOLO model was trained on*"
   ]
  },
  {
   "cell_type": "code",
   "execution_count": 2,
   "metadata": {},
   "outputs": [
    {
     "name": "stdout",
     "output_type": "stream",
     "text": [
      "person\n",
      "bicycle\n",
      "car\n"
     ]
    }
   ],
   "source": [
    "lblPath = \"./models/coco.names\"\n",
    "LABELS = open(lblPath).read().strip().split(\"\\n\")\n",
    "\n",
    "for i in range(3):\n",
    "    print(LABELS[i])"
   ]
  },
  {
   "cell_type": "markdown",
   "metadata": {},
   "source": [
    "*Initialize a list of colors to represent each possible class label*"
   ]
  },
  {
   "cell_type": "code",
   "execution_count": 3,
   "metadata": {},
   "outputs": [],
   "source": [
    "np.random.seed(42)\n",
    "COLORS = np.random.randint(0, 255, size=(len(LABELS), 3), dtype=\"uint8\")"
   ]
  },
  {
   "cell_type": "markdown",
   "metadata": {},
   "source": [
    "*Load our YOLO object detector model trained on COCO dataset (80 classes). To run the algorythm we need 2 files:*\n",
    "\n",
    "*1. Weight file: it’s the trained model, the core of the algorythm to detect the objects.* <br/>\n",
    "*2. Cfg file: it’s the configuration file, where there are all the settings of the algorythm.* <br/>\n",
    "\n",
    "*Determine only the output layer names that we need from YOLO*"
   ]
  },
  {
   "cell_type": "code",
   "execution_count": 4,
   "metadata": {},
   "outputs": [],
   "source": [
    "weightsPath = \"./models/yolov3.weights\"\n",
    "configPath = \"./models/yolov3.cfg\"\n",
    "\n",
    "net = cv2.dnn.readNetFromDarknet(configPath,weightsPath)\n",
    "\n",
    "out_layers = net.getLayerNames()\n",
    "out_layers = [out_layers[i[0] - 1] for i in net.getUnconnectedOutLayers()]"
   ]
  },
  {
   "cell_type": "markdown",
   "metadata": {},
   "source": [
    "*Load our input image and grab its dimensions*"
   ]
  },
  {
   "cell_type": "code",
   "execution_count": 13,
   "metadata": {},
   "outputs": [],
   "source": [
    "imgPath = \".\\images\\imgg3.jpg\"\n",
    "\n",
    "image = cv2.imread(imgPath)\n",
    "H, W, channels = image.shape #(H, W) = image.shape[:2]"
   ]
  },
  {
   "cell_type": "markdown",
   "metadata": {},
   "source": [
    "*Now that we have the algorythm and image, it’s time to pass the image into the network and do the detection.*\n",
    "\n",
    "*Keep in mind that we can’t pass the full image on the network. First we need to convert it to a blob. Blob extracts the features from an image and resize them. YOLO accepts three sizes:*\n",
    "\n",
    "*1.320×320 it’s small so less accuracy but better speed* <br/>\n",
    "*2.609×609 it’s bigger so high accuracy and slow speed* <br/>\n",
    "*3.416×416 it’s in the middle and you get a bit of both.* <br/>\n",
    "\n",
    "*The 'layerOutputs' is the result of the detection. It is an array that conains all the informations about objects detected, their position and the confidence about the detection.*"
   ]
  },
  {
   "cell_type": "code",
   "execution_count": 14,
   "metadata": {},
   "outputs": [
    {
     "data": {
      "text/plain": [
       "list"
      ]
     },
     "execution_count": 14,
     "metadata": {},
     "output_type": "execute_result"
    }
   ],
   "source": [
    "blob = cv2.dnn.blobFromImage(image, 1 / 255.0, (416, 416), swapRB=True, crop=False)\n",
    "net.setInput(blob)\n",
    "\n",
    "layerOutputs = net.forward(out_layers)\n",
    "type(layerOutputs)"
   ]
  },
  {
   "cell_type": "markdown",
   "metadata": {},
   "source": [
    "*Initialize our lists of detected bounding boxes, confidences, and class IDs, respectively*"
   ]
  },
  {
   "cell_type": "code",
   "execution_count": 15,
   "metadata": {},
   "outputs": [],
   "source": [
    "boxes = []\n",
    "confidences = []\n",
    "classIDs = []"
   ]
  },
  {
   "cell_type": "markdown",
   "metadata": {},
   "source": [
    "*1. Loop over each of the layer outputs* <br/>\n",
    "*2. Filter out weak predictions by ensuring the detected. Probability is greater than the minimum probability* <br/>\n",
    "*3. Scale the bounding box coordinates back relative to the size of the image, keeping in mind that YOLO actually returns bounding box co-ordinates in the form of (centerX, centerY, width, and height)* <br/>\n",
    "*4. Use the information to derive the top and left corner of the bounding box* <br/>\n",
    "*5. Appending list of bounding box coordinates, confidences and class IDs for each object detected* <br/>\n",
    "*6. Apply non-maxima suppression to suppress weak, overlapping bounding boxes* <br/>\n",
    "*7. Extract the bounding box coordinates*"
   ]
  },
  {
   "cell_type": "code",
   "execution_count": 16,
   "metadata": {},
   "outputs": [],
   "source": [
    "\n",
    "for output in layerOutputs:\n",
    "    for detection in output:\n",
    "        \n",
    "        scores = detection[5:]\n",
    "        classID = np.argmax(scores)\n",
    "        confidence = scores[classID]\n",
    "        #2\n",
    "        if confidence > 0.5:\n",
    "            #3\n",
    "            (centerX, centerY, width, height) = (detection[0:4] * np.array([W, H, W, H])).astype(\"int\")\n",
    "            \n",
    "            #4\n",
    "            x = int(centerX - (width / 2))\n",
    "            y = int(centerY - (height / 2))\n",
    "\n",
    "            #5\n",
    "            boxes.append([x, y, int(width), int(height)])\n",
    "            confidences.append(float(confidence))\n",
    "            classIDs.append(classID)\n",
    "\n",
    "#6\n",
    "idxs = cv2.dnn.NMSBoxes(boxes, confidences, 0.5, 0.4)\n",
    "\n",
    "# ensure at least one detection exists\n",
    "if len(idxs) > 0:\n",
    "    for i in idxs.flatten():\n",
    "        #7\n",
    "        (x, y) = (boxes[i][0], boxes[i][1])\n",
    "        (w, h) = (boxes[i][2], boxes[i][3])\n",
    "\n",
    "        # draw a bounding box rectangle and label on the image\n",
    "        color = [int(c) for c in COLORS[classIDs[i]]]\n",
    "        \n",
    "        cv2.rectangle(image, (x, y), (x + w, y + h), color, 2)\n",
    "        text = str(LABELS[classIDs[i]]) + \" : \" + str(confidences[i])\n",
    "        cv2.putText(image, text, (x, y - 5), cv2.FONT_HERSHEY_SIMPLEX, 0.5, color, 2)\n",
    "\n",
    "# show the output image\n",
    "cv2.imshow(\"Image\", image)\n",
    "cv2.waitKey(0)\n",
    "cv2.destroyAllWindows()"
   ]
  }
 ],
 "metadata": {
  "kernelspec": {
   "display_name": "Python 3",
   "language": "python",
   "name": "python3"
  },
  "language_info": {
   "codemirror_mode": {
    "name": "ipython",
    "version": 3
   },
   "file_extension": ".py",
   "mimetype": "text/x-python",
   "name": "python",
   "nbconvert_exporter": "python",
   "pygments_lexer": "ipython3",
   "version": "3.6.10"
  }
 },
 "nbformat": 4,
 "nbformat_minor": 4
}
