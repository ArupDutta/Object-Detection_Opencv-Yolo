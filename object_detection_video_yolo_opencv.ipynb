{
 "cells": [
  {
   "cell_type": "markdown",
   "metadata": {},
   "source": [
    "*YOLO is a deep learning algorythm. So it doesn’t need any installation, instead it needs a deep learning freamwork to run on!*\n",
    "\n",
    "*Three most know used freamwork compatible with YOLO are -* <br/>\n",
    "*1. Darknet* <br/>\n",
    "*2. Darkflow* <br/>\n",
    "*3. Opencv*"
   ]
  },
  {
   "cell_type": "markdown",
   "metadata": {},
   "source": [
    "*Imports necessary packages*"
   ]
  },
  {
   "cell_type": "code",
   "execution_count": 1,
   "metadata": {},
   "outputs": [],
   "source": [
    "import numpy as np\n",
    "import cv2\n",
    "import os"
   ]
  },
  {
   "cell_type": "markdown",
   "metadata": {},
   "source": [
    "*Load the COCO class labels our YOLO model was trained on*"
   ]
  },
  {
   "cell_type": "code",
   "execution_count": 2,
   "metadata": {},
   "outputs": [
    {
     "name": "stdout",
     "output_type": "stream",
     "text": [
      "person\n",
      "bicycle\n",
      "car\n"
     ]
    }
   ],
   "source": [
    "lblPath = \"./yolo-coco/coco.names\"\n",
    "LABELS = open(lblPath).read().strip().split(\"\\n\")\n",
    "\n",
    "for i in range(3):\n",
    "    print(LABELS[i])"
   ]
  },
  {
   "cell_type": "markdown",
   "metadata": {},
   "source": [
    "*Initialize a list of colors to represent each possible class label*"
   ]
  },
  {
   "cell_type": "code",
   "execution_count": 3,
   "metadata": {},
   "outputs": [],
   "source": [
    "np.random.seed(42)\n",
    "COLORS = np.random.randint(0, 255, size=(len(LABELS), 3), dtype=\"uint8\")"
   ]
  },
  {
   "cell_type": "markdown",
   "metadata": {},
   "source": [
    "*Load our YOLO object detector model trained on COCO dataset (80 classes). To run the algorythm we need 2 files:*\n",
    "\n",
    "*1. Weight file: it’s the trained model, the core of the algorythm to detect the objects.* <br/>\n",
    "*2. Cfg file: it’s the configuration file, where there are all the settings of the algorythm.* <br/>\n",
    "\n",
    "*Determine only the output layer names that we need from YOLO*"
   ]
  },
  {
   "cell_type": "code",
   "execution_count": 4,
   "metadata": {},
   "outputs": [],
   "source": [
    "weightsPath = \"./yolo-coco/yolov3.weights\"\n",
    "configPath = \"./yolo-coco/yolov3.cfg\"\n",
    "\n",
    "net = cv2.dnn.readNetFromDarknet(configPath,weightsPath)\n",
    "\n",
    "out_layers = net.getLayerNames()\n",
    "out_layers = [out_layers[i[0] - 1] for i in net.getUnconnectedOutLayers()]"
   ]
  },
  {
   "cell_type": "markdown",
   "metadata": {},
   "source": [
    "*Grab video stream*"
   ]
  },
  {
   "cell_type": "code",
   "execution_count": 5,
   "metadata": {},
   "outputs": [],
   "source": [
    "#vs = cv2.VideoCapture(0)\n",
    "vs = cv2.VideoCapture(\"./videos/demo_video.mp4\")\n",
    "(W, H) = (None, None)"
   ]
  },
  {
   "cell_type": "code",
   "execution_count": 6,
   "metadata": {},
   "outputs": [],
   "source": [
    "frame_width = int(vs.get(3)) \n",
    "frame_height = int(vs.get(4))\n",
    "   \n",
    "size = (frame_width, frame_height)\n",
    "result = cv2.VideoWriter(\"./output/out_video.avi\", cv2.VideoWriter_fourcc(*'MJPG'), 10, size)"
   ]
  },
  {
   "cell_type": "code",
   "execution_count": 7,
   "metadata": {},
   "outputs": [],
   "source": [
    "while True:\n",
    "    \n",
    "    _,frame = vs.read()\n",
    "    \n",
    "    if W is None or H is None:\n",
    "        (H, W) = frame.shape[:2]\n",
    "        \n",
    "    blob = cv2.dnn.blobFromImage(frame, 1 / 255.0, (416, 416), swapRB=True, crop=False)\n",
    "    net.setInput(blob)\n",
    "    layerOutputs = net.forward(out_layers)\n",
    "\n",
    "    boxes = []\n",
    "    confidences = []\n",
    "    classIDs = []\n",
    "    \n",
    "    for output in layerOutputs:\n",
    "        for detection in output:\n",
    "\n",
    "            scores = detection[5:]\n",
    "            classID = np.argmax(scores)\n",
    "            confidence = scores[classID]\n",
    "\n",
    "            if confidence > 0.5:\n",
    "                (centerX, centerY, width, height) = box = detection[0:4] * np.array([W, H, W, H]).astype(\"int\")\n",
    "\n",
    "                x = int(centerX - (width / 2))\n",
    "                y = int(centerY - (height / 2))\n",
    "\n",
    "                boxes.append([x, y, int(width), int(height)])\n",
    "                confidences.append(float(confidence))\n",
    "                classIDs.append(classID)\n",
    "\n",
    "    idxs = cv2.dnn.NMSBoxes(boxes, confidences, 0.5, 0.4)\n",
    "\n",
    "    # ensure at least one detection exists\n",
    "    if len(idxs) > 0:\n",
    "        for i in idxs.flatten():\n",
    "            (x, y) = (boxes[i][0], boxes[i][1])\n",
    "            (w, h) = (boxes[i][2], boxes[i][3])\n",
    "\n",
    "            color = [int(c) for c in COLORS[classIDs[i]]]\n",
    "            cv2.rectangle(frame, (x, y), (x + w, y + h), color, 2)\n",
    "            text = str(LABELS[classIDs[i]]) + \" : \" + str(confidences[i])\n",
    "            cv2.putText(frame, text, (x, y - 5), cv2.FONT_HERSHEY_SIMPLEX, 0.5, color, 2)\n",
    "    \n",
    "    result.write(frame) \n",
    "    cv2.imshow(\"frame\", frame)\n",
    "\n",
    "    key = cv2.waitKey(1)\n",
    "    if key == 27:\n",
    "        break;\n",
    "        \n",
    "\n",
    "vs.release() \n",
    "result.release()\n",
    "cv2.destroyAllWindows()"
   ]
  },
  {
   "cell_type": "code",
   "execution_count": null,
   "metadata": {},
   "outputs": [],
   "source": []
  }
 ],
 "metadata": {
  "kernelspec": {
   "display_name": "Python 3",
   "language": "python",
   "name": "python3"
  },
  "language_info": {
   "codemirror_mode": {
    "name": "ipython",
    "version": 3
   },
   "file_extension": ".py",
   "mimetype": "text/x-python",
   "name": "python",
   "nbconvert_exporter": "python",
   "pygments_lexer": "ipython3",
   "version": "3.6.10"
  }
 },
 "nbformat": 4,
 "nbformat_minor": 4
}
